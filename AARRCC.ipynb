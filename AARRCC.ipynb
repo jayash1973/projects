{
  "cells": [
    {
      "cell_type": "markdown",
      "metadata": {
        "id": "view-in-github",
        "colab_type": "text"
      },
      "source": [
        "<a href=\"https://colab.research.google.com/github/jayash1973/projects/blob/main/AARRCC.ipynb\" target=\"_parent\"><img src=\"https://colab.research.google.com/assets/colab-badge.svg\" alt=\"Open In Colab\"/></a>"
      ]
    },
    {
      "cell_type": "code",
      "execution_count": 1,
      "metadata": {
        "id": "iBCwMeS0YY7P",
        "outputId": "b37293f9-ef94-4daa-8c02-beb2cd56f134",
        "colab": {
          "base_uri": "https://localhost:8080/"
        }
      },
      "outputs": [
        {
          "output_type": "stream",
          "name": "stdout",
          "text": [
            "Requirement already satisfied: kaggle in /usr/local/lib/python3.10/dist-packages (1.6.17)\n",
            "Requirement already satisfied: matplotlib in /usr/local/lib/python3.10/dist-packages (3.7.1)\n",
            "Requirement already satisfied: numpy in /usr/local/lib/python3.10/dist-packages (1.26.4)\n",
            "Requirement already satisfied: torch in /usr/local/lib/python3.10/dist-packages (2.4.1+cu121)\n",
            "Requirement already satisfied: torchvision in /usr/local/lib/python3.10/dist-packages (0.19.1+cu121)\n",
            "Requirement already satisfied: futures in /usr/local/lib/python3.10/dist-packages (3.0.5)\n",
            "Requirement already satisfied: imageio in /usr/local/lib/python3.10/dist-packages (2.35.1)\n",
            "Requirement already satisfied: tqdm in /usr/local/lib/python3.10/dist-packages (4.66.5)\n",
            "Requirement already satisfied: six>=1.10 in /usr/local/lib/python3.10/dist-packages (from kaggle) (1.16.0)\n",
            "Requirement already satisfied: certifi>=2023.7.22 in /usr/local/lib/python3.10/dist-packages (from kaggle) (2024.8.30)\n",
            "Requirement already satisfied: python-dateutil in /usr/local/lib/python3.10/dist-packages (from kaggle) (2.8.2)\n",
            "Requirement already satisfied: requests in /usr/local/lib/python3.10/dist-packages (from kaggle) (2.32.3)\n",
            "Requirement already satisfied: python-slugify in /usr/local/lib/python3.10/dist-packages (from kaggle) (8.0.4)\n",
            "Requirement already satisfied: urllib3 in /usr/local/lib/python3.10/dist-packages (from kaggle) (2.2.3)\n",
            "Requirement already satisfied: bleach in /usr/local/lib/python3.10/dist-packages (from kaggle) (6.1.0)\n",
            "Requirement already satisfied: contourpy>=1.0.1 in /usr/local/lib/python3.10/dist-packages (from matplotlib) (1.3.0)\n",
            "Requirement already satisfied: cycler>=0.10 in /usr/local/lib/python3.10/dist-packages (from matplotlib) (0.12.1)\n",
            "Requirement already satisfied: fonttools>=4.22.0 in /usr/local/lib/python3.10/dist-packages (from matplotlib) (4.53.1)\n",
            "Requirement already satisfied: kiwisolver>=1.0.1 in /usr/local/lib/python3.10/dist-packages (from matplotlib) (1.4.7)\n",
            "Requirement already satisfied: packaging>=20.0 in /usr/local/lib/python3.10/dist-packages (from matplotlib) (24.1)\n",
            "Requirement already satisfied: pillow>=6.2.0 in /usr/local/lib/python3.10/dist-packages (from matplotlib) (10.4.0)\n",
            "Requirement already satisfied: pyparsing>=2.3.1 in /usr/local/lib/python3.10/dist-packages (from matplotlib) (3.1.4)\n",
            "Requirement already satisfied: filelock in /usr/local/lib/python3.10/dist-packages (from torch) (3.16.1)\n",
            "Requirement already satisfied: typing-extensions>=4.8.0 in /usr/local/lib/python3.10/dist-packages (from torch) (4.12.2)\n",
            "Requirement already satisfied: sympy in /usr/local/lib/python3.10/dist-packages (from torch) (1.13.3)\n",
            "Requirement already satisfied: networkx in /usr/local/lib/python3.10/dist-packages (from torch) (3.3)\n",
            "Requirement already satisfied: jinja2 in /usr/local/lib/python3.10/dist-packages (from torch) (3.1.4)\n",
            "Requirement already satisfied: fsspec in /usr/local/lib/python3.10/dist-packages (from torch) (2024.6.1)\n",
            "Requirement already satisfied: webencodings in /usr/local/lib/python3.10/dist-packages (from bleach->kaggle) (0.5.1)\n",
            "Requirement already satisfied: MarkupSafe>=2.0 in /usr/local/lib/python3.10/dist-packages (from jinja2->torch) (2.1.5)\n",
            "Requirement already satisfied: text-unidecode>=1.3 in /usr/local/lib/python3.10/dist-packages (from python-slugify->kaggle) (1.3)\n",
            "Requirement already satisfied: charset-normalizer<4,>=2 in /usr/local/lib/python3.10/dist-packages (from requests->kaggle) (3.3.2)\n",
            "Requirement already satisfied: idna<4,>=2.5 in /usr/local/lib/python3.10/dist-packages (from requests->kaggle) (3.10)\n",
            "Requirement already satisfied: mpmath<1.4,>=1.1.0 in /usr/local/lib/python3.10/dist-packages (from sympy->torch) (1.3.0)\n"
          ]
        }
      ],
      "source": [
        "!pip install kaggle matplotlib numpy torch torchvision futures imageio tqdm"
      ]
    },
    {
      "cell_type": "code",
      "source": [
        "!mkdir -p ~/.kaggle\n",
        "!cp /content/kaggle.json ~/.kaggle/kaggle.json\n",
        "!chmod 600 ~/.kaggle/kaggle.json"
      ],
      "metadata": {
        "id": "m317uOPaXye0"
      },
      "execution_count": 2,
      "outputs": []
    },
    {
      "cell_type": "code",
      "source": [
        "!kaggle competitions download -c arc-prize-2024\n",
        "!unzip arc-prize-2024.zip"
      ],
      "metadata": {
        "id": "qukAslszXyYH",
        "outputId": "33727964-bd21-4f52-b0b6-24f6b557cce9",
        "colab": {
          "base_uri": "https://localhost:8080/"
        }
      },
      "execution_count": 5,
      "outputs": [
        {
          "output_type": "stream",
          "name": "stdout",
          "text": [
            "arc-prize-2024.zip: Skipping, found more recently modified local copy (use --force to force download)\n",
            "Archive:  arc-prize-2024.zip\n",
            "  inflating: arc-agi_evaluation_challenges.json  \n",
            "  inflating: arc-agi_evaluation_solutions.json  \n",
            "  inflating: arc-agi_test_challenges.json  \n",
            "  inflating: arc-agi_training_challenges.json  \n",
            "  inflating: arc-agi_training_solutions.json  \n",
            "  inflating: sample_submission.json  \n"
          ]
        }
      ]
    },
    {
      "cell_type": "markdown",
      "source": [
        "#Data Exploration and Visualization\n"
      ],
      "metadata": {
        "id": "zQcksqpcbAdQ"
      }
    },
    {
      "cell_type": "code",
      "source": [
        "import json\n",
        "import numpy as np\n",
        "import matplotlib.pyplot as plt\n",
        "import seaborn as sns\n",
        "from tqdm import tqdm\n",
        "from collections import Counter\n",
        "from google.colab import files\n",
        "\n",
        "# Load the data\n",
        "with open('/content/arc-agi_training-challenges.json', 'r') as f:\n",
        "    training_challenges = json.load(f)\n",
        "\n",
        "def visualize_grid(grid, ax, title):\n",
        "    ax.imshow(grid, cmap='tab10')\n",
        "    ax.set_title(title)\n",
        "    ax.axis('off')\n",
        "\n",
        "def analyze_task_complexity(task):\n",
        "    input_shapes = [np.array(pair['input']).shape for pair in task['train']]\n",
        "    output_shapes = [np.array(pair['output']).shape for pair in task['train']]\n",
        "    unique_symbols = set(sum([sum(pair['input'], []) + sum(pair['output'], []) for pair in task['train']], []))\n",
        "    return {\n",
        "        'input_shapes': input_shapes,\n",
        "        'output_shapes': output_shapes,\n",
        "        'symbol_count': len(unique_symbols),\n",
        "        'train_pair_count': len(task['train'])\n",
        "    }\n",
        "\n",
        "# Analyze all tasks\n",
        "task_complexities = {task_id: analyze_task_complexity(task) for task_id, task in tqdm(training_challenges.items())}\n",
        "\n",
        "# Visualize task complexities\n",
        "plt.figure(figsize=(15, 10))\n",
        "\n",
        "plt.subplot(2, 2, 1)\n",
        "sns.histplot([max(shapes) for shapes in [tc['input_shapes'] for tc in task_complexities.values()]], bins=20)\n",
        "plt.title('Distribution of Max Input Grid Sizes')\n",
        "plt.xlabel('Size')\n",
        "\n",
        "plt.subplot(2, 2, 2)\n",
        "sns.histplot([max(shapes) for shapes in [tc['output_shapes'] for tc in task_complexities.values()]], bins=20)\n",
        "plt.title('Distribution of Max Output Grid Sizes')\n",
        "plt.xlabel('Size')\n",
        "\n",
        "plt.subplot(2, 2, 3)\n",
        "sns.histplot([tc['symbol_count'] for tc in task_complexities.values()], bins=10)\n",
        "plt.title('Distribution of Unique Symbol Count')\n",
        "plt.xlabel('Count')\n",
        "\n",
        "plt.subplot(2, 2, 4)\n",
        "sns.histplot([tc['train_pair_count'] for tc in task_complexities.values()], bins=5)\n",
        "plt.title('Distribution of Train Pair Count')\n",
        "plt.xlabel('Count')\n",
        "\n",
        "plt.tight_layout()\n",
        "plt.show()\n",
        "\n",
        "# Visualize a few complex examples\n",
        "complex_tasks = sorted(task_complexities.items(), key=lambda x: x[1]['symbol_count'] * max(x[1]['input_shapes']), reverse=True)[:5]\n",
        "\n",
        "for task_id, complexity in complex_tasks:\n",
        "    task = training_challenges[task_id]\n",
        "    fig, axes = plt.subplots(2, len(task['train']) + 1, figsize=(20, 8))\n",
        "    plt.suptitle(f\"Task ID: {task_id} (Complexity: {complexity['symbol_count']} symbols, {max(complexity['input_shapes'])} max size)\")\n",
        "\n",
        "    for i, pair in enumerate(task['train']):\n",
        "        visualize_grid(pair['input'], axes[0, i], f\"Input {i+1}\")\n",
        "        visualize_grid(pair['output'], axes[1, i], f\"Output {i+1}\")\n",
        "\n",
        "    visualize_grid(task['test'][0], axes[0, -1], \"Test Input\")\n",
        "    axes[1, -1].axis('off')\n",
        "\n",
        "    plt.tight_layout()\n",
        "    plt.show()\n",
        "\n",
        "# Analyze transformation patterns\n",
        "def analyze_transformation(input_grid, output_grid):\n",
        "    input_flat = np.array(input_grid).flatten()\n",
        "    output_flat = np.array(output_grid).flatten()\n",
        "\n",
        "    size_change = np.array(output_grid).shape[0] / np.array(input_grid).shape[0]\n",
        "    symbol_change = len(set(output_flat)) / len(set(input_flat))\n",
        "\n",
        "    return {\n",
        "        'size_change': size_change,\n",
        "        'symbol_change': symbol_change,\n",
        "        'is_permutation': set(input_flat) == set(output_flat) and len(input_flat) == len(output_flat)\n",
        "    }\n",
        "\n",
        "transformation_patterns = []\n",
        "for task in tqdm(training_challenges.values()):\n",
        "    for pair in task['train']:\n",
        "        transformation_patterns.append(analyze_transformation(pair['input'], pair['output']))\n",
        "\n",
        "plt.figure(figsize=(15, 5))\n",
        "\n",
        "plt.subplot(1, 3, 1)\n",
        "sns.histplot([tp['size_change'] for tp in transformation_patterns], bins=20)\n",
        "plt.title('Distribution of Size Changes')\n",
        "plt.xlabel('Output Size / Input Size')\n",
        "\n",
        "plt.subplot(1, 3, 2)\n",
        "sns.histplot([tp['symbol_change'] for tp in transformation_patterns], bins=20)\n",
        "plt.title('Distribution of Symbol Changes')\n",
        "plt.xlabel('Output Symbols / Input Symbols')\n",
        "\n",
        "plt.subplot(1, 3, 3)\n",
        "sns.countplot(x=[tp['is_permutation'] for tp in transformation_patterns])\n",
        "plt.title('Permutation vs Non-Permutation Transformations')\n",
        "plt.xlabel('Is Permutation')\n",
        "\n",
        "plt.tight_layout()\n",
        "plt.show()\n",
        "\n",
        "print(f\"Total number of tasks: {len(training_challenges)}\")\n",
        "print(f\"Total number of train pairs: {sum(len(task['train']) for task in training_challenges.values())}\")"
      ],
      "metadata": {
        "id": "RqPxNSMyYzrl",
        "outputId": "216fc9b3-d4e1-411c-afc8-fa21a99606d6",
        "colab": {
          "base_uri": "https://localhost:8080/",
          "height": 1000
        }
      },
      "execution_count": 7,
      "outputs": [
        {
          "output_type": "stream",
          "name": "stdout",
          "text": [
            "Task ID: 007bbfb7\n"
          ]
        },
        {
          "output_type": "display_data",
          "data": {
            "text/plain": [
              "<Figure size 640x480 with 2 Axes>"
            ],
            "image/png": "[encoded data removed]"
          },
          "metadata": {}
        },
        {
          "output_type": "display_data",
          "data": {
            "text/plain": [
              "<Figure size 640x480 with 2 Axes>"
            ],
            "image/png": "[encoded data removed]"
          },
          "metadata": {}
        },
        {
          "output_type": "display_data",
          "data": {
            "text/plain": [
              "<Figure size 640x480 with 2 Axes>"
            ],
            "image/png": "[encoded data removed]"
          },
          "metadata": {}
        },
        {
          "output_type": "display_data",
          "data": {
            "text/plain": [
              "<Figure size 640x480 with 2 Axes>"
            ],
            "image/png": "[encoded data removed]"
          },
          "metadata": {}
        },
        {
          "output_type": "display_data",
          "data": {
            "text/plain": [
              "<Figure size 640x480 with 2 Axes>"
            ],
            "image/png": "[encoded data removed]"
          },
          "metadata": {}
        },
        {
          "output_type": "display_data",
          "data": {
            "text/plain": [
              "<Figure size 640x480 with 2 Axes>"
            ],
            "image/png": "[encoded data removed]"
          },
          "metadata": {}
        },
        {
          "output_type": "display_data",
          "data": {
            "text/plain": [
              "<Figure size 640x480 with 2 Axes>"
            ],
            "image/png": "[encoded data removed]"
          },
          "metadata": {}
        },
        {
          "output_type": "display_data",
          "data": {
            "text/plain": [
              "<Figure size 640x480 with 2 Axes>"
            ],
            "image/png": "[encoded data removed]"
          },
          "metadata": {}
        },
        {
          "output_type": "display_data",
          "data": {
            "text/plain": [
              "<Figure size 640x480 with 2 Axes>"
            ],
            "image/png": "[encoded data removed]"
          },
          "metadata": {}
        },
        {
          "output_type": "display_data",
          "data": {
            "text/plain": [
              "<Figure size 640x480 with 2 Axes>"
            ],
            "image/png": "[encoded data removed]"
          },
          "metadata": {}
        },
        {
          "output_type": "error",
          "ename": "TypeError",
          "evalue": "Image data of dtype object cannot be converted to float",
          "traceback": [
            "\u001b[0;31m---------------------------------------------------------------------------\u001b[0m",
            "\u001b[0;31mTypeError\u001b[0m                                 Traceback (most recent call last)",
            "\u001b[0;32m<ipython-input-7-24da36d2d96f>\u001b[0m in \u001b[0;36m<cell line: 18>\u001b[0;34m()\u001b[0m\n\u001b[1;32m     21\u001b[0m         \u001b[0mvisualize_grid\u001b[0m\u001b[0;34m(\u001b[0m\u001b[0mpair\u001b[0m\u001b[0;34m[\u001b[0m\u001b[0;34m'input'\u001b[0m\u001b[0;34m]\u001b[0m\u001b[0;34m,\u001b[0m \u001b[0;34mf\"Input {i+1}\"\u001b[0m\u001b[0;34m)\u001b[0m\u001b[0;34m\u001b[0m\u001b[0;34m\u001b[0m\u001b[0m\n\u001b[1;32m     22\u001b[0m         \u001b[0mvisualize_grid\u001b[0m\u001b[0;34m(\u001b[0m\u001b[0mpair\u001b[0m\u001b[0;34m[\u001b[0m\u001b[0;34m'output'\u001b[0m\u001b[0;34m]\u001b[0m\u001b[0;34m,\u001b[0m \u001b[0;34mf\"Output {i+1}\"\u001b[0m\u001b[0;34m)\u001b[0m\u001b[0;34m\u001b[0m\u001b[0;34m\u001b[0m\u001b[0m\n\u001b[0;32m---> 23\u001b[0;31m     \u001b[0mvisualize_grid\u001b[0m\u001b[0;34m(\u001b[0m\u001b[0mtask\u001b[0m\u001b[0;34m[\u001b[0m\u001b[0;34m'test'\u001b[0m\u001b[0;34m]\u001b[0m\u001b[0;34m[\u001b[0m\u001b[0;36m0\u001b[0m\u001b[0;34m]\u001b[0m\u001b[0;34m,\u001b[0m \u001b[0;34m\"Test Input\"\u001b[0m\u001b[0;34m)\u001b[0m\u001b[0;34m\u001b[0m\u001b[0;34m\u001b[0m\u001b[0m\n\u001b[0m\u001b[1;32m     24\u001b[0m     \u001b[0mprint\u001b[0m\u001b[0;34m(\u001b[0m\u001b[0;34m\"\\n\"\u001b[0m\u001b[0;34m)\u001b[0m\u001b[0;34m\u001b[0m\u001b[0;34m\u001b[0m\u001b[0m\n",
            "\u001b[0;32m<ipython-input-7-24da36d2d96f>\u001b[0m in \u001b[0;36mvisualize_grid\u001b[0;34m(grid, title)\u001b[0m\n\u001b[1;32m      9\u001b[0m \u001b[0;34m\u001b[0m\u001b[0m\n\u001b[1;32m     10\u001b[0m \u001b[0;32mdef\u001b[0m \u001b[0mvisualize_grid\u001b[0m\u001b[0;34m(\u001b[0m\u001b[0mgrid\u001b[0m\u001b[0;34m,\u001b[0m \u001b[0mtitle\u001b[0m\u001b[0;34m)\u001b[0m\u001b[0;34m:\u001b[0m\u001b[0;34m\u001b[0m\u001b[0;34m\u001b[0m\u001b[0m\n\u001b[0;32m---> 11\u001b[0;31m     \u001b[0mplt\u001b[0m\u001b[0;34m.\u001b[0m\u001b[0mimshow\u001b[0m\u001b[0;34m(\u001b[0m\u001b[0mgrid\u001b[0m\u001b[0;34m,\u001b[0m \u001b[0mcmap\u001b[0m\u001b[0;34m=\u001b[0m\u001b[0;34m'tab10'\u001b[0m\u001b[0;34m)\u001b[0m\u001b[0;34m\u001b[0m\u001b[0;34m\u001b[0m\u001b[0m\n\u001b[0m\u001b[1;32m     12\u001b[0m     \u001b[0mplt\u001b[0m\u001b[0;34m.\u001b[0m\u001b[0mtitle\u001b[0m\u001b[0;34m(\u001b[0m\u001b[0mtitle\u001b[0m\u001b[0;34m)\u001b[0m\u001b[0;34m\u001b[0m\u001b[0;34m\u001b[0m\u001b[0m\n\u001b[1;32m     13\u001b[0m     \u001b[0mplt\u001b[0m\u001b[0;34m.\u001b[0m\u001b[0maxis\u001b[0m\u001b[0;34m(\u001b[0m\u001b[0;34m'off'\u001b[0m\u001b[0;34m)\u001b[0m\u001b[0;34m\u001b[0m\u001b[0;34m\u001b[0m\u001b[0m\n",
            "\u001b[0;32m/usr/local/lib/python3.10/dist-packages/matplotlib/pyplot.py\u001b[0m in \u001b[0;36mimshow\u001b[0;34m(X, cmap, norm, aspect, interpolation, alpha, vmin, vmax, origin, extent, interpolation_stage, filternorm, filterrad, resample, url, data, **kwargs)\u001b[0m\n\u001b[1;32m   2693\u001b[0m         \u001b[0minterpolation_stage\u001b[0m\u001b[0;34m=\u001b[0m\u001b[0;32mNone\u001b[0m\u001b[0;34m,\u001b[0m \u001b[0mfilternorm\u001b[0m\u001b[0;34m=\u001b[0m\u001b[0;32mTrue\u001b[0m\u001b[0;34m,\u001b[0m \u001b[0mfilterrad\u001b[0m\u001b[0;34m=\u001b[0m\u001b[0;36m4.0\u001b[0m\u001b[0;34m,\u001b[0m\u001b[0;34m\u001b[0m\u001b[0;34m\u001b[0m\u001b[0m\n\u001b[1;32m   2694\u001b[0m         resample=None, url=None, data=None, **kwargs):\n\u001b[0;32m-> 2695\u001b[0;31m     __ret = gca().imshow(\n\u001b[0m\u001b[1;32m   2696\u001b[0m         \u001b[0mX\u001b[0m\u001b[0;34m,\u001b[0m \u001b[0mcmap\u001b[0m\u001b[0;34m=\u001b[0m\u001b[0mcmap\u001b[0m\u001b[0;34m,\u001b[0m \u001b[0mnorm\u001b[0m\u001b[0;34m=\u001b[0m\u001b[0mnorm\u001b[0m\u001b[0;34m,\u001b[0m \u001b[0maspect\u001b[0m\u001b[0;34m=\u001b[0m\u001b[0maspect\u001b[0m\u001b[0;34m,\u001b[0m\u001b[0;34m\u001b[0m\u001b[0;34m\u001b[0m\u001b[0m\n\u001b[1;32m   2697\u001b[0m         \u001b[0minterpolation\u001b[0m\u001b[0;34m=\u001b[0m\u001b[0minterpolation\u001b[0m\u001b[0;34m,\u001b[0m \u001b[0malpha\u001b[0m\u001b[0;34m=\u001b[0m\u001b[0malpha\u001b[0m\u001b[0;34m,\u001b[0m \u001b[0mvmin\u001b[0m\u001b[0;34m=\u001b[0m\u001b[0mvmin\u001b[0m\u001b[0;34m,\u001b[0m\u001b[0;34m\u001b[0m\u001b[0;34m\u001b[0m\u001b[0m\n",
            "\u001b[0;32m/usr/local/lib/python3.10/dist-packages/matplotlib/__init__.py\u001b[0m in \u001b[0;36minner\u001b[0;34m(ax, data, *args, **kwargs)\u001b[0m\n\u001b[1;32m   1440\u001b[0m     \u001b[0;32mdef\u001b[0m \u001b[0minner\u001b[0m\u001b[0;34m(\u001b[0m\u001b[0max\u001b[0m\u001b[0;34m,\u001b[0m \u001b[0;34m*\u001b[0m\u001b[0margs\u001b[0m\u001b[0;34m,\u001b[0m \u001b[0mdata\u001b[0m\u001b[0;34m=\u001b[0m\u001b[0;32mNone\u001b[0m\u001b[0;34m,\u001b[0m \u001b[0;34m**\u001b[0m\u001b[0mkwargs\u001b[0m\u001b[0;34m)\u001b[0m\u001b[0;34m:\u001b[0m\u001b[0;34m\u001b[0m\u001b[0;34m\u001b[0m\u001b[0m\n\u001b[1;32m   1441\u001b[0m         \u001b[0;32mif\u001b[0m \u001b[0mdata\u001b[0m \u001b[0;32mis\u001b[0m \u001b[0;32mNone\u001b[0m\u001b[0;34m:\u001b[0m\u001b[0;34m\u001b[0m\u001b[0;34m\u001b[0m\u001b[0m\n\u001b[0;32m-> 1442\u001b[0;31m             \u001b[0;32mreturn\u001b[0m \u001b[0mfunc\u001b[0m\u001b[0;34m(\u001b[0m\u001b[0max\u001b[0m\u001b[0;34m,\u001b[0m \u001b[0;34m*\u001b[0m\u001b[0mmap\u001b[0m\u001b[0;34m(\u001b[0m\u001b[0msanitize_sequence\u001b[0m\u001b[0;34m,\u001b[0m \u001b[0margs\u001b[0m\u001b[0;34m)\u001b[0m\u001b[0;34m,\u001b[0m \u001b[0;34m**\u001b[0m\u001b[0mkwargs\u001b[0m\u001b[0;34m)\u001b[0m\u001b[0;34m\u001b[0m\u001b[0;34m\u001b[0m\u001b[0m\n\u001b[0m\u001b[1;32m   1443\u001b[0m \u001b[0;34m\u001b[0m\u001b[0m\n\u001b[1;32m   1444\u001b[0m         \u001b[0mbound\u001b[0m \u001b[0;34m=\u001b[0m \u001b[0mnew_sig\u001b[0m\u001b[0;34m.\u001b[0m\u001b[0mbind\u001b[0m\u001b[0;34m(\u001b[0m\u001b[0max\u001b[0m\u001b[0;34m,\u001b[0m \u001b[0;34m*\u001b[0m\u001b[0margs\u001b[0m\u001b[0;34m,\u001b[0m \u001b[0;34m**\u001b[0m\u001b[0mkwargs\u001b[0m\u001b[0;34m)\u001b[0m\u001b[0;34m\u001b[0m\u001b[0;34m\u001b[0m\u001b[0m\n",
            "\u001b[0;32m/usr/local/lib/python3.10/dist-packages/matplotlib/axes/_axes.py\u001b[0m in \u001b[0;36mimshow\u001b[0;34m(self, X, cmap, norm, aspect, interpolation, alpha, vmin, vmax, origin, extent, interpolation_stage, filternorm, filterrad, resample, url, **kwargs)\u001b[0m\n\u001b[1;32m   5663\u001b[0m                               **kwargs)\n\u001b[1;32m   5664\u001b[0m \u001b[0;34m\u001b[0m\u001b[0m\n\u001b[0;32m-> 5665\u001b[0;31m         \u001b[0mim\u001b[0m\u001b[0;34m.\u001b[0m\u001b[0mset_data\u001b[0m\u001b[0;34m(\u001b[0m\u001b[0mX\u001b[0m\u001b[0;34m)\u001b[0m\u001b[0;34m\u001b[0m\u001b[0;34m\u001b[0m\u001b[0m\n\u001b[0m\u001b[1;32m   5666\u001b[0m         \u001b[0mim\u001b[0m\u001b[0;34m.\u001b[0m\u001b[0mset_alpha\u001b[0m\u001b[0;34m(\u001b[0m\u001b[0malpha\u001b[0m\u001b[0;34m)\u001b[0m\u001b[0;34m\u001b[0m\u001b[0;34m\u001b[0m\u001b[0m\n\u001b[1;32m   5667\u001b[0m         \u001b[0;32mif\u001b[0m \u001b[0mim\u001b[0m\u001b[0;34m.\u001b[0m\u001b[0mget_clip_path\u001b[0m\u001b[0;34m(\u001b[0m\u001b[0;34m)\u001b[0m \u001b[0;32mis\u001b[0m \u001b[0;32mNone\u001b[0m\u001b[0;34m:\u001b[0m\u001b[0;34m\u001b[0m\u001b[0;34m\u001b[0m\u001b[0m\n",
            "\u001b[0;32m/usr/local/lib/python3.10/dist-packages/matplotlib/image.py\u001b[0m in \u001b[0;36mset_data\u001b[0;34m(self, A)\u001b[0m\n\u001b[1;32m    699\u001b[0m         if (self._A.dtype != np.uint8 and\n\u001b[1;32m    700\u001b[0m                 not np.can_cast(self._A.dtype, float, \"same_kind\")):\n\u001b[0;32m--> 701\u001b[0;31m             raise TypeError(\"Image data of dtype {} cannot be converted to \"\n\u001b[0m\u001b[1;32m    702\u001b[0m                             \"float\".format(self._A.dtype))\n\u001b[1;32m    703\u001b[0m \u001b[0;34m\u001b[0m\u001b[0m\n",
            "\u001b[0;31mTypeError\u001b[0m: Image data of dtype object cannot be converted to float"
          ]
        },
        {
          "output_type": "display_data",
          "data": {
            "text/plain": [
              "<Figure size 640x480 with 1 Axes>"
            ],
            "image/png": "[encoded data removed]"
          },
          "metadata": {}
        }
      ]
    },
    {
      "cell_type": "markdown",
      "source": [
        "#Data Preprocessing"
      ],
      "metadata": {
        "id": "ntU3WodebWK-"
      }
    },
    {
      "cell_type": "code",
      "source": [
        "import tensorflow as tf\n",
        "from sklearn.model_selection import train_test_split\n",
        "\n",
        "def pad_grid(grid, max_size=30):\n",
        "    padded = np.zeros((max_size, max_size), dtype=int)\n",
        "    h, w = len(grid), len(grid[0])\n",
        "    padded[:h, :w] = grid\n",
        "    return padded\n",
        "\n",
        "def encode_symbols(grid):\n",
        "    unique_symbols = sorted(set(sum(grid, [])))\n",
        "    symbol_to_int = {symbol: i for i, symbol in enumerate(unique_symbols)}\n",
        "    return [[symbol_to_int[cell] for cell in row] for row in grid]\n",
        "\n",
        "def encode_task(task):\n",
        "    train_inputs = [pad_grid(encode_symbols(pair['input'])) for pair in task['train']]\n",
        "    train_outputs = [pad_grid(encode_symbols(pair['output'])) for pair in task['train']]\n",
        "    test_input = pad_grid(encode_symbols(task['test'][0]))\n",
        "\n",
        "    # Calculate relative positions\n",
        "    max_dim = max(max(grid.shape) for grid in train_inputs + train_outputs + [test_input])\n",
        "\n",
        "    def add_positional_encoding(grid):\n",
        "        h, w = grid.shape\n",
        "        y_pos = np.repeat(np.arange(h)[:, np.newaxis], w, axis=1) / max_dim\n",
        "        x_pos = np.repeat(np.arange(w)[np.newaxis, :], h, axis=0) / max_dim\n",
        "        return np.stack([grid, y_pos, x_pos], axis=-1)\n",
        "\n",
        "    train_inputs = [add_positional_encoding(grid) for grid in train_inputs]\n",
        "    train_outputs = [add_positional_encoding(grid) for grid in train_outputs]\n",
        "    test_input = add_positional_encoding(test_input)\n",
        "\n",
        "    return np.array(train_inputs), np.array(train_outputs), np.array([test_input])\n",
        "\n",
        "# Preprocess all tasks\n",
        "X, y, X_test = [], [], []\n",
        "for task in tqdm(training_challenges.values()):\n",
        "    inputs, outputs, test = encode_task(task)\n",
        "    X.append(inputs)\n",
        "    y.append(outputs)\n",
        "    X_test.append(test)\n",
        "\n",
        "X = np.array(X)\n",
        "y = np.array(y)\n",
        "X_test = np.array(X_test)\n",
        "\n",
        "# Split data into train and validation sets\n",
        "X_train, X_val, y_train, y_val = train_test_split(X, y, test_size=0.2, random_state=42)\n",
        "\n",
        "print(f\"Training samples: {len(X_train)}\")\n",
        "print(f\"Validation samples: {len(X_val)}\")\n",
        "print(f\"Test samples: {len(X_test)}\")"
      ],
      "metadata": {
        "id": "n06xKXm6ZSdj",
        "outputId": "cb6a6505-a9da-4caa-bdcd-b323bc03eca4",
        "colab": {
          "base_uri": "https://localhost:8080/",
          "height": 370
        }
      },
      "execution_count": 9,
      "outputs": [
        {
          "output_type": "error",
          "ename": "KeyError",
          "evalue": "0",
          "traceback": [
            "\u001b[0;31m---------------------------------------------------------------------------\u001b[0m",
            "\u001b[0;31mKeyError\u001b[0m                                  Traceback (most recent call last)",
            "\u001b[0;32m<ipython-input-9-970e58ed7d50>\u001b[0m in \u001b[0;36m<cell line: 22>\u001b[0;34m()\u001b[0m\n\u001b[1;32m     21\u001b[0m \u001b[0mX_train\u001b[0m\u001b[0;34m,\u001b[0m \u001b[0my_train\u001b[0m\u001b[0;34m,\u001b[0m \u001b[0mX_test\u001b[0m \u001b[0;34m=\u001b[0m \u001b[0;34m[\u001b[0m\u001b[0;34m]\u001b[0m\u001b[0;34m,\u001b[0m \u001b[0;34m[\u001b[0m\u001b[0;34m]\u001b[0m\u001b[0;34m,\u001b[0m \u001b[0;34m[\u001b[0m\u001b[0;34m]\u001b[0m\u001b[0;34m\u001b[0m\u001b[0;34m\u001b[0m\u001b[0m\n\u001b[1;32m     22\u001b[0m \u001b[0;32mfor\u001b[0m \u001b[0mtask\u001b[0m \u001b[0;32min\u001b[0m \u001b[0mtraining_challenges\u001b[0m\u001b[0;34m.\u001b[0m\u001b[0mvalues\u001b[0m\u001b[0;34m(\u001b[0m\u001b[0;34m)\u001b[0m\u001b[0;34m:\u001b[0m\u001b[0;34m\u001b[0m\u001b[0;34m\u001b[0m\u001b[0m\n\u001b[0;32m---> 23\u001b[0;31m     \u001b[0minputs\u001b[0m\u001b[0;34m,\u001b[0m \u001b[0moutputs\u001b[0m\u001b[0;34m,\u001b[0m \u001b[0mtest\u001b[0m \u001b[0;34m=\u001b[0m \u001b[0mencode_task\u001b[0m\u001b[0;34m(\u001b[0m\u001b[0mtask\u001b[0m\u001b[0;34m)\u001b[0m\u001b[0;34m\u001b[0m\u001b[0;34m\u001b[0m\u001b[0m\n\u001b[0m\u001b[1;32m     24\u001b[0m     \u001b[0mX_train\u001b[0m\u001b[0;34m.\u001b[0m\u001b[0mappend\u001b[0m\u001b[0;34m(\u001b[0m\u001b[0minputs\u001b[0m\u001b[0;34m)\u001b[0m\u001b[0;34m\u001b[0m\u001b[0;34m\u001b[0m\u001b[0m\n\u001b[1;32m     25\u001b[0m     \u001b[0my_train\u001b[0m\u001b[0;34m.\u001b[0m\u001b[0mappend\u001b[0m\u001b[0;34m(\u001b[0m\u001b[0moutputs\u001b[0m\u001b[0;34m)\u001b[0m\u001b[0;34m\u001b[0m\u001b[0;34m\u001b[0m\u001b[0m\n",
            "\u001b[0;32m<ipython-input-9-970e58ed7d50>\u001b[0m in \u001b[0;36mencode_task\u001b[0;34m(task)\u001b[0m\n\u001b[1;32m     14\u001b[0m     \u001b[0mtrain_outputs\u001b[0m \u001b[0;34m=\u001b[0m \u001b[0;34m[\u001b[0m\u001b[0mpad_grid\u001b[0m\u001b[0;34m(\u001b[0m\u001b[0mpair\u001b[0m\u001b[0;34m.\u001b[0m\u001b[0mget\u001b[0m\u001b[0;34m(\u001b[0m\u001b[0;34m'output'\u001b[0m\u001b[0;34m,\u001b[0m \u001b[0;34m[\u001b[0m\u001b[0;34m]\u001b[0m\u001b[0;34m)\u001b[0m\u001b[0;34m)\u001b[0m \u001b[0;32mfor\u001b[0m \u001b[0mpair\u001b[0m \u001b[0;32min\u001b[0m \u001b[0mtask\u001b[0m\u001b[0;34m.\u001b[0m\u001b[0mget\u001b[0m\u001b[0;34m(\u001b[0m\u001b[0;34m'train'\u001b[0m\u001b[0;34m,\u001b[0m \u001b[0;34m[\u001b[0m\u001b[0;34m]\u001b[0m\u001b[0;34m)\u001b[0m\u001b[0;34m]\u001b[0m\u001b[0;34m\u001b[0m\u001b[0;34m\u001b[0m\u001b[0m\n\u001b[1;32m     15\u001b[0m \u001b[0;34m\u001b[0m\u001b[0m\n\u001b[0;32m---> 16\u001b[0;31m     \u001b[0mtest_inputs\u001b[0m \u001b[0;34m=\u001b[0m \u001b[0;34m[\u001b[0m\u001b[0mpad_grid\u001b[0m\u001b[0;34m(\u001b[0m\u001b[0mtest_case\u001b[0m\u001b[0;34m)\u001b[0m \u001b[0;32mfor\u001b[0m \u001b[0mtest_case\u001b[0m \u001b[0;32min\u001b[0m \u001b[0mtask\u001b[0m\u001b[0;34m.\u001b[0m\u001b[0mget\u001b[0m\u001b[0;34m(\u001b[0m\u001b[0;34m'test'\u001b[0m\u001b[0;34m,\u001b[0m \u001b[0;34m[\u001b[0m\u001b[0;34m]\u001b[0m\u001b[0;34m)\u001b[0m\u001b[0;34m]\u001b[0m\u001b[0;34m\u001b[0m\u001b[0;34m\u001b[0m\u001b[0m\n\u001b[0m\u001b[1;32m     17\u001b[0m \u001b[0;34m\u001b[0m\u001b[0m\n\u001b[1;32m     18\u001b[0m     \u001b[0;32mreturn\u001b[0m \u001b[0mnp\u001b[0m\u001b[0;34m.\u001b[0m\u001b[0marray\u001b[0m\u001b[0;34m(\u001b[0m\u001b[0mtrain_inputs\u001b[0m\u001b[0;34m)\u001b[0m\u001b[0;34m,\u001b[0m \u001b[0mnp\u001b[0m\u001b[0;34m.\u001b[0m\u001b[0marray\u001b[0m\u001b[0;34m(\u001b[0m\u001b[0mtrain_outputs\u001b[0m\u001b[0;34m)\u001b[0m\u001b[0;34m,\u001b[0m \u001b[0mnp\u001b[0m\u001b[0;34m.\u001b[0m\u001b[0marray\u001b[0m\u001b[0;34m(\u001b[0m\u001b[0mtest_inputs\u001b[0m\u001b[0;34m)\u001b[0m\u001b[0;34m\u001b[0m\u001b[0;34m\u001b[0m\u001b[0m\n",
            "\u001b[0;32m<ipython-input-9-970e58ed7d50>\u001b[0m in \u001b[0;36m<listcomp>\u001b[0;34m(.0)\u001b[0m\n\u001b[1;32m     14\u001b[0m     \u001b[0mtrain_outputs\u001b[0m \u001b[0;34m=\u001b[0m \u001b[0;34m[\u001b[0m\u001b[0mpad_grid\u001b[0m\u001b[0;34m(\u001b[0m\u001b[0mpair\u001b[0m\u001b[0;34m.\u001b[0m\u001b[0mget\u001b[0m\u001b[0;34m(\u001b[0m\u001b[0;34m'output'\u001b[0m\u001b[0;34m,\u001b[0m \u001b[0;34m[\u001b[0m\u001b[0;34m]\u001b[0m\u001b[0;34m)\u001b[0m\u001b[0;34m)\u001b[0m \u001b[0;32mfor\u001b[0m \u001b[0mpair\u001b[0m \u001b[0;32min\u001b[0m \u001b[0mtask\u001b[0m\u001b[0;34m.\u001b[0m\u001b[0mget\u001b[0m\u001b[0;34m(\u001b[0m\u001b[0;34m'train'\u001b[0m\u001b[0;34m,\u001b[0m \u001b[0;34m[\u001b[0m\u001b[0;34m]\u001b[0m\u001b[0;34m)\u001b[0m\u001b[0;34m]\u001b[0m\u001b[0;34m\u001b[0m\u001b[0;34m\u001b[0m\u001b[0m\n\u001b[1;32m     15\u001b[0m \u001b[0;34m\u001b[0m\u001b[0m\n\u001b[0;32m---> 16\u001b[0;31m     \u001b[0mtest_inputs\u001b[0m \u001b[0;34m=\u001b[0m \u001b[0;34m[\u001b[0m\u001b[0mpad_grid\u001b[0m\u001b[0;34m(\u001b[0m\u001b[0mtest_case\u001b[0m\u001b[0;34m)\u001b[0m \u001b[0;32mfor\u001b[0m \u001b[0mtest_case\u001b[0m \u001b[0;32min\u001b[0m \u001b[0mtask\u001b[0m\u001b[0;34m.\u001b[0m\u001b[0mget\u001b[0m\u001b[0;34m(\u001b[0m\u001b[0;34m'test'\u001b[0m\u001b[0;34m,\u001b[0m \u001b[0;34m[\u001b[0m\u001b[0;34m]\u001b[0m\u001b[0;34m)\u001b[0m\u001b[0;34m]\u001b[0m\u001b[0;34m\u001b[0m\u001b[0;34m\u001b[0m\u001b[0m\n\u001b[0m\u001b[1;32m     17\u001b[0m \u001b[0;34m\u001b[0m\u001b[0m\n\u001b[1;32m     18\u001b[0m     \u001b[0;32mreturn\u001b[0m \u001b[0mnp\u001b[0m\u001b[0;34m.\u001b[0m\u001b[0marray\u001b[0m\u001b[0;34m(\u001b[0m\u001b[0mtrain_inputs\u001b[0m\u001b[0;34m)\u001b[0m\u001b[0;34m,\u001b[0m \u001b[0mnp\u001b[0m\u001b[0;34m.\u001b[0m\u001b[0marray\u001b[0m\u001b[0;34m(\u001b[0m\u001b[0mtrain_outputs\u001b[0m\u001b[0;34m)\u001b[0m\u001b[0;34m,\u001b[0m \u001b[0mnp\u001b[0m\u001b[0;34m.\u001b[0m\u001b[0marray\u001b[0m\u001b[0;34m(\u001b[0m\u001b[0mtest_inputs\u001b[0m\u001b[0;34m)\u001b[0m\u001b[0;34m\u001b[0m\u001b[0;34m\u001b[0m\u001b[0m\n",
            "\u001b[0;32m<ipython-input-9-970e58ed7d50>\u001b[0m in \u001b[0;36mpad_grid\u001b[0;34m(grid, max_size)\u001b[0m\n\u001b[1;32m      6\u001b[0m \u001b[0;34m\u001b[0m\u001b[0m\n\u001b[1;32m      7\u001b[0m     \u001b[0mpadded\u001b[0m \u001b[0;34m=\u001b[0m \u001b[0mnp\u001b[0m\u001b[0;34m.\u001b[0m\u001b[0mzeros\u001b[0m\u001b[0;34m(\u001b[0m\u001b[0;34m(\u001b[0m\u001b[0mmax_size\u001b[0m\u001b[0;34m,\u001b[0m \u001b[0mmax_size\u001b[0m\u001b[0;34m)\u001b[0m\u001b[0;34m,\u001b[0m \u001b[0mdtype\u001b[0m\u001b[0;34m=\u001b[0m\u001b[0mint\u001b[0m\u001b[0;34m)\u001b[0m\u001b[0;34m\u001b[0m\u001b[0;34m\u001b[0m\u001b[0m\n\u001b[0;32m----> 8\u001b[0;31m     \u001b[0mh\u001b[0m\u001b[0;34m,\u001b[0m \u001b[0mw\u001b[0m \u001b[0;34m=\u001b[0m \u001b[0mlen\u001b[0m\u001b[0;34m(\u001b[0m\u001b[0mgrid\u001b[0m\u001b[0;34m)\u001b[0m\u001b[0;34m,\u001b[0m \u001b[0mlen\u001b[0m\u001b[0;34m(\u001b[0m\u001b[0mgrid\u001b[0m\u001b[0;34m[\u001b[0m\u001b[0;36m0\u001b[0m\u001b[0;34m]\u001b[0m\u001b[0;34m)\u001b[0m\u001b[0;34m\u001b[0m\u001b[0;34m\u001b[0m\u001b[0m\n\u001b[0m\u001b[1;32m      9\u001b[0m     \u001b[0mpadded\u001b[0m\u001b[0;34m[\u001b[0m\u001b[0;34m:\u001b[0m\u001b[0mh\u001b[0m\u001b[0;34m,\u001b[0m \u001b[0;34m:\u001b[0m\u001b[0mw\u001b[0m\u001b[0;34m]\u001b[0m \u001b[0;34m=\u001b[0m \u001b[0mgrid\u001b[0m\u001b[0;34m\u001b[0m\u001b[0;34m\u001b[0m\u001b[0m\n\u001b[1;32m     10\u001b[0m     \u001b[0;32mreturn\u001b[0m \u001b[0mpadded\u001b[0m\u001b[0;34m\u001b[0m\u001b[0;34m\u001b[0m\u001b[0m\n",
            "\u001b[0;31mKeyError\u001b[0m: 0"
          ]
        }
      ]
    },
    {
      "cell_type": "markdown",
      "source": [
        "#Model Architecture Design"
      ],
      "metadata": {
        "id": "C2J5cUo1bcp_"
      }
    },
    {
      "cell_type": "code",
      "source": [
        "import tensorflow as tf\n",
        "from tensorflow.keras import layers, Model\n",
        "\n",
        "class MultiHeadSelfAttention(layers.Layer):\n",
        "    def __init__(self, embed_dim, num_heads):\n",
        "        super(MultiHeadSelfAttention, self).__init__()\n",
        "        self.embed_dim = embed_dim\n",
        "        self.num_heads = num_heads\n",
        "        if embed_dim % num_heads != 0:\n",
        "            raise ValueError(f\"embedding dimension = {embed_dim} should be divisible by number of heads = {num_heads}\")\n",
        "        self.projection_dim = embed_dim // num_heads\n",
        "        self.query_dense = layers.Dense(embed_dim)\n",
        "        self.key_dense = layers.Dense(embed_dim)\n",
        "        self.value_dense = layers.Dense(embed_dim)\n",
        "        self.combine_heads = layers.Dense(embed_dim)\n",
        "\n",
        "    def attention(self, query, key, value):\n",
        "        score = tf.matmul(query, key, transpose_b=True)\n",
        "        dim_key = tf.cast(tf.shape(key)[-1], tf.float32)\n",
        "        scaled_score = score / tf.math.sqrt(dim_key)\n",
        "        weights = tf.nn.softmax(scaled_score, axis=-1)\n",
        "        output = tf.matmul(weights, value)\n",
        "        return output, weights\n",
        "\n",
        "    def separate_heads(self, x, batch_size):\n",
        "        x = tf.reshape(x, (batch_size, -1, self.num_heads, self.projection_dim))\n",
        "        return tf.transpose(x, perm=[0, 2, 1, 3])\n",
        "\n",
        "    def call(self, inputs):\n",
        "        batch_size = tf.shape(inputs)[0]\n",
        "        query = self.query_dense(inputs)\n",
        "        key = self.key_dense(inputs)\n",
        "        value = self.value_dense(inputs)\n",
        "        query = self.separate_heads(query, batch_size)\n",
        "        key = self.separate_heads(key, batch_size)\n",
        "        value = self.separate_heads(value, batch_size)\n",
        "\n",
        "        attention, weights = self.attention(query, key, value)\n",
        "        attention = tf.transpose(attention, perm=[0, 2, 1, 3])\n",
        "        concat_attention = tf.reshape(attention, (batch_size, -1, self.embed_dim))\n",
        "        output = self.combine_heads(concat_attention)\n",
        "        return output, weights\n",
        "\n",
        "class TransformerBlock(layers.Layer):\n",
        "    def __init__(self, embed_dim, num_heads, ff_dim, rate=0.1):\n",
        "        super(TransformerBlock, self).__init__()\n",
        "        self.att = MultiHeadSelfAttention(embed_dim, num_heads)\n",
        "        self.ffn = tf.keras.Sequential(\n",
        "            [layers.Dense(ff_dim, activation=\"relu\"), layers.Dense(embed_dim),]\n",
        "        )\n",
        "        self.layernorm1 = layers.LayerNormalization(epsilon=1e-6)\n",
        "        self.layernorm2 = layers.LayerNormalization(epsilon=1e-6)\n",
        "        self.dropout1 = layers.Dropout(rate)\n",
        "        self.dropout2 = layers.Dropout(rate)\n",
        "\n",
        "    def call(self, inputs, training):\n",
        "        attn_output, _ = self.att(inputs)\n",
        "        attn_output = self.dropout1(attn_output, training=training)\n",
        "        out1 = self.layernorm1(inputs + attn_output)\n",
        "        ffn_output = self.ffn(out1)\n",
        "        ffn_output = self.dropout2(ffn_output, training=training)\n",
        "        return self.layernorm2(out1 + ffn_output)\n",
        "\n",
        "class ARCModel(Model):\n",
        "    def __init__(self, max_size=30, num_symbols=10, embed_dim=256, num_heads=8, ff_dim=512, num_transformer_blocks=6, mlp_units=[512, 256], dropout=0.1):\n",
        "        super(ARCModel, self).__init__()\n",
        "        self.max_size = max_size\n",
        "        self.num_symbols = num_symbols\n",
        "\n",
        "        self.embedding = layers.Embedding(input_dim=num_symbols, output_dim=embed_dim)\n",
        "        self.position_embedding = layers.Embedding(input_dim=max_size, output_dim=embed_dim)\n",
        "\n",
        "        self.transformer_blocks = [TransformerBlock(embed_dim, num_heads, ff_dim, dropout) for _ in range(num_transformer_blocks)]\n",
        "\n",
        "        self.mlp = tf.keras.Sequential(\n",
        "            [layers.Dense(dim, activation=\"relu\") for dim in mlp_units] +\n",
        "            [layers.Dense(num_symbols)]\n",
        "        )\n",
        "\n",
        "        self.dropout = layers.Dropout(dropout)\n",
        "\n",
        "    def call(self, inputs):\n",
        "        x = inputs[:, :, :, 0]  # Use only the symbol channel\n",
        "        positions = tf.range(start=0, limit=self.max_size, delta=1)\n",
        "        x = self.embedding(x)\n",
        "        x += self.position_embedding(positions)[tf.newaxis, :, tf.newaxis, :]\n",
        "        x = self.dropout(x)\n",
        "\n",
        "        for transformer_block in self.transformer_blocks:\n",
        "            x = transformer_block(x)\n",
        "\n",
        "        x = self.mlp(x)\n",
        "        return x\n",
        "\n",
        "model = ARCModel()\n",
        "model.compile(\n",
        "    optimizer=tf.keras.optimizers.Adam(learning_rate=1e-4),\n",
        "    loss=tf.keras.losses.SparseCategoricalCrossentropy(from_logits=True),\n",
        "    metrics=['accuracy']\n",
        ")\n",
        "model.build(input_shape=(None, 3, 30, 30, 3))\n",
        "model.summary()"
      ],
      "metadata": {
        "id": "cgwivov-Zlp_"
      },
      "execution_count": null,
      "outputs": []
    },
    {
      "cell_type": "markdown",
      "source": [
        "#Model Training and Evaluation"
      ],
      "metadata": {
        "id": "iDCquRZvbhXW"
      }
    },
    {
      "cell_type": "code",
      "source": [
        "class ARCDataGenerator(tf.keras.utils.Sequence):\n",
        "    def __init__(self, X, y, batch_size=32):\n",
        "        self.X, self.y = X, y\n",
        "        self.batch_size = batch_size\n",
        "\n",
        "    def __len__(self):\n",
        "        return int(np.ceil(len(self.X) / float(self.batch_size)))\n",
        "\n",
        "    def __getitem__(self, idx):\n",
        "        batch_X = self.X[idx * self.batch_size:(idx + 1) * self.batch_size]\n",
        "        batch_y = self.y[idx * self.batch_size:(idx + 1) * self.batch_size]\n",
        "\n",
        "        X_flat = np.array([pair for task in batch_X for pair in task])\n",
        "        y_flat = np.array([pair for task in batch_y for pair in task])\n",
        "\n",
        "        return X_flat, y_flat[:, :, :, 0]  # Use only the symbol channel for y\n",
        "\n",
        "train_generator = ARCDataGenerator(X_train, y_train, batch_size=16)\n",
        "val_generator = ARCDataGenerator(X_val, y_val, batch_size=16)\n",
        "\n",
        "# Learning rate scheduler\n",
        "def lr_schedule(epoch):\n",
        "    lr = 1e-4\n",
        "    if epoch > 30:\n",
        "        lr *= 0.1\n",
        "    elif epoch > 50:\n",
        "        lr *= 0.01\n",
        "    return lr\n",
        "\n",
        "lr_scheduler = tf.keras.callbacks.LearningRateScheduler(lr_schedule)\n",
        "\n",
        "# Early stopping\n",
        "early_stopping = tf.keras.callbacks.EarlyStopping(\n",
        "    monitor='val_loss', patience=10, restore_best_weights=True\n",
        ")\n",
        "\n",
        "# Model checkpoint\n",
        "checkpoint = tf.keras.callbacks.ModelCheckpoint(\n",
        "    'best_model.h5', monitor='val_loss', save_best_only=True, mode='min'\n",
        ")\n",
        "\n",
        "# Train the model\n",
        "history = model.fit(\n",
        "    train_generator,\n",
        "    validation_data=val_generator,\n",
        "    epochs=100,\n",
        "    callbacks=[lr_scheduler, early_stopping, checkpoint]\n",
        ")\n",
        "\n",
        "# Plot training history\n",
        "plt.figure(figsize=(12, 4))\n",
        "plt.subplot(1, 2, 1)\n",
        "plt.plot(history.history['loss'], label='Training Loss')\n",
        "plt.plot(history.history['val_loss'], label='Validation Loss')\n",
        "plt.title('Model Loss')\n",
        "plt.xlabel('Epoch')\n",
        "plt.ylabel('Loss')\n",
        "plt.legend()\n",
        "\n",
        "plt.subplot(1, 2, 2)\n",
        "plt.plot(history.history['accuracy'], label='Training Accuracy')\n",
        "plt.plot(history.history['val_accuracy'], label='Validation Accuracy')\n",
        "plt.title('Model Accuracy')\n",
        "plt.xlabel('Epoch')\n",
        "plt.ylabel('Accuracy')\n",
        "plt.legend()\n",
        "\n",
        "plt.tight_layout()\n",
        "plt.show()\n",
        "\n",
        "# Evaluate the model\n",
        "def evaluate_model(model, X, y):\n",
        "    correct_predictions = 0\n",
        "    total_predictions = 0\n",
        "\n",
        "    for task_X, task_y in tqdm(zip(X, y), total=len(X)):\n",
        "        predictions = model.predict(task_X)\n",
        "        rounded_predictions = np.argmax(predictions, axis=-1)\n",
        "\n",
        "        for pred, true in zip(rounded_predictions, task_y):\n",
        "            if np.array_equal(pred, true[:, :, 0]):  # Compare with symbol channel only\n",
        "                correct_predictions += 1\n",
        "            total_predictions += 1\n",
        "\n",
        "    accuracy = correct_predictions / total_predictions\n",
        "    print(f\"Model Accuracy: {accuracy:.4f}\")\n",
        "    return accuracy\n",
        "\n",
        "# Evaluate on validation set\n",
        "val_accuracy = evaluate_model(model, X_val, y_val)\n",
        "\n",
        "# Analyze model performance\n",
        "def analyze_performance(model, X, y):\n",
        "    performance_metrics = {\n",
        "        'size_accuracy': [],\n",
        "        'symbol_accuracy': [],\n",
        "        'complexity_accuracy': []\n",
        "    }\n",
        "\n",
        "    for task_X, task_y in tqdm(zip(X, y), total=len(X)):\n",
        "        predictions = model.predict(task_X)\n",
        "        rounded_predictions = np.argmax(predictions, axis=-1)\n",
        "\n",
        "        for pred, true in zip(rounded_predictions, task_y):\n",
        "            true = true[:, :, 0]  # Use only symbol channel\n",
        "\n",
        "            # Size accuracy\n",
        "            size_correct = pred.shape == true.shape\n",
        "            performance_metrics['size_accuracy'].append(size_correct)\n",
        "\n",
        "            # Symbol accuracy\n",
        "            symbol_correct = set(np.unique(pred)) == set(np.unique(true))\n",
        "            performance_metrics['symbol_accuracy'].append(symbol_correct)\n",
        "\n",
        "            # Complexity (number of unique symbols)\n",
        "            complexity = len(set(np.unique(true)))\n",
        "            if complexity not in performance_metrics['complexity_accuracy']:\n",
        "                performance_metrics['complexity_accuracy'].append([])\n",
        "            performance_metrics['complexity_accuracy'][complexity].append(np.array_equal(pred, true))\n",
        "\n",
        "    # Calculate average accuracies\n",
        "    performance_metrics['size_accuracy'] = np.mean(performance_metrics['size_accuracy'])\n",
        "    performance_metrics['symbol_accuracy'] = np.mean(performance_metrics['symbol_accuracy'])\n",
        "    performance_metrics['complexity_accuracy'] = {k: np.mean(v) for k, v in enumerate(performance_metrics['complexity_accuracy']) if v}\n",
        "\n",
        "    return performance_metrics\n",
        "\n",
        "# Analyze model performance on validation set\n",
        "val_performance = analyze_performance(model, X_val, y_val)\n",
        "\n",
        "print(\"Validation Performance Metrics:\")\n",
        "print(f\"Size Accuracy: {val_performance['size_accuracy']:.4f}\")\n",
        "print(f\"Symbol Accuracy: {val_performance['symbol_accuracy']:.4f}\")\n",
        "print(\"Complexity Accuracy:\")\n",
        "for complexity, accuracy in val_performance['complexity_accuracy'].items():\n",
        "    print(f\"  {complexity} symbols: {accuracy:.4f}\")\n",
        "\n",
        "# Visualize performance by complexity\n",
        "plt.figure(figsize=(10, 6))\n",
        "complexities = list(val_performance['complexity_accuracy'].keys())\n",
        "accuracies = list(val_performance['complexity_accuracy'].values())\n",
        "plt.bar(complexities, accuracies)\n",
        "plt.title('Model Performance by Task Complexity')\n",
        "plt.xlabel('Number of Unique Symbols')\n",
        "plt.ylabel('Accuracy')\n",
        "plt.show()"
      ],
      "metadata": {
        "id": "BO7AC7ulbikX"
      },
      "execution_count": null,
      "outputs": []
    },
    {
      "cell_type": "markdown",
      "source": [
        "#Prediction and Submission"
      ],
      "metadata": {
        "id": "-KjQQWQabnyu"
      }
    },
    {
      "cell_type": "code",
      "source": [
        "def generate_submission(model, X_test, task_ids):\n",
        "    submission = {}\n",
        "\n",
        "    for task_id, task_X in tqdm(zip(task_ids, X_test), total=len(X_test)):\n",
        "        predictions = model.predict(task_X)\n",
        "        rounded_predictions = np.argmax(predictions, axis=-1)\n",
        "\n",
        "        # Generate two slightly different attempts\n",
        "        attempt_1 = rounded_predictions[0]\n",
        "        attempt_2 = np.copy(attempt_1)\n",
        "\n",
        "        # Introduce small variations in attempt_2\n",
        "        mask = np.random.random(attempt_2.shape) < 0.05  # 5% chance of change\n",
        "        attempt_2[mask] = np.random.randint(0, 10, size=np.sum(mask))\n",
        "\n",
        "        submission[task_id] = [{\n",
        "            \"attempt_1\": attempt_1.tolist(),\n",
        "            \"attempt_2\": attempt_2.tolist()\n",
        "        }]\n",
        "\n",
        "    return submission\n",
        "\n",
        "# Load test data\n",
        "with open('/content/arc-agi_test-challenges.json', 'r') as f:\n",
        "    test_challenges = json.load(f)\n",
        "\n",
        "# Preprocess test data\n",
        "X_final_test = []\n",
        "test_task_ids = []\n",
        "for task_id, task in test_challenges.items():\n",
        "    _, _, test = encode_task(task)\n",
        "    X_final_test.append(test)\n",
        "    test_task_ids.append(task_id)\n",
        "\n",
        "X_final_test = np.array(X_final_test)\n",
        "\n",
        "# Generate submission\n",
        "submission = generate_submission(model, X_final_test, test_task_ids)\n",
        "\n",
        "# Save submission file\n",
        "with open('submission.json', 'w') as f:\n",
        "    json.dump(submission, f)\n",
        "\n",
        "files.download('submission.json')\n",
        "\n",
        "# Analyze submission\n",
        "submission_stats = {\n",
        "    'total_tasks': len(submission),\n",
        "    'unique_symbols': set(),\n",
        "    'output_sizes': []\n",
        "}\n",
        "\n",
        "for task_id, predictions in submission.items():\n",
        "    for attempt in predictions:\n",
        "        output = attempt['attempt_1']  # Analyze attempt_1, could also analyze attempt_2\n",
        "        submission_stats['unique_symbols'].update(set(sum(output, [])))\n",
        "        submission_stats['output_sizes'].append(len(output))\n",
        "\n",
        "print(\"Submission Statistics:\")\n",
        "print(f\"Total tasks: {submission_stats['total_tasks']}\")\n",
        "print(f\"Unique symbols used: {len(submission_stats['unique_symbols'])}\")\n",
        "print(f\"Average output size: {np.mean(submission_stats['output_sizes']):.2f}\")\n",
        "print(f\"Min output size: {min(submission_stats['output_sizes'])}\")\n",
        "print(f\"Max output size: {max(submission_stats['output_sizes'])}\")\n",
        "\n",
        "# Visualize output size distribution\n",
        "plt.figure(figsize=(10, 6))\n",
        "plt.hist(submission_stats['output_sizes'], bins=20)\n",
        "plt.title('Distribution of Output Sizes in Submission')\n",
        "plt.xlabel('Output Size')\n",
        "plt.ylabel('Count')\n",
        "plt.show()"
      ],
      "metadata": {
        "id": "5Tc7t6HNbqbr"
      },
      "execution_count": null,
      "outputs": []
    }
  ],
  "metadata": {
    "accelerator": "GPU",
    "colab": {
      "gpuType": "T4",
      "provenance": [],
      "include_colab_link": true
    },
    "kernelspec": {
      "display_name": "Python 3",
      "name": "python3"
    },
    "language_info": {
      "name": "python"
    }
  },
  "nbformat": 4,
  "nbformat_minor": 0
}